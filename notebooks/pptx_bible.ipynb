{
 "cells": [
  {
   "cell_type": "code",
   "execution_count": 1,
   "id": "ae3931f3-0914-4d6f-8cdb-3cb80e8fdb98",
   "metadata": {},
   "outputs": [],
   "source": [
    "import sys\n",
    "sys.path.append('../src')\n",
    "\n",
    "from bible_verses_merger import fetch_and_merge_bible_verses\n",
    "from pptx_generator import generate_presentation_for_chapter"
   ]
  },
  {
   "cell_type": "code",
   "execution_count": 2,
   "id": "7c261197-7bd2-499c-a6d4-e2987b8c986d",
   "metadata": {},
   "outputs": [],
   "source": [
    "api_key = '3d4fd00f7de5f215dc1331289ad27919e037a247'\n",
    "book_eng = \"Genesis\"\n",
    "chapter = 50\n",
    "\n",
    "done = [1,2,3,4,5,6,7,8,9,10,11,12,13,14,15,16,17,18,19,20,21,22,23,24,25,26,27,28,29,30,31]"
   ]
  },
  {
   "cell_type": "code",
   "execution_count": 3,
   "id": "27cb97ca-9d13-4e6c-bca1-05772849932e",
   "metadata": {},
   "outputs": [
    {
     "name": "stderr",
     "output_type": "stream",
     "text": [
      "Fetching verses for Genesis 32: 32verse [00:06,  5.04verse/s, Completed chapter.]\n"
     ]
    },
    {
     "name": "stdout",
     "output_type": "stream",
     "text": [
      "Presentation saved as 창세기_Genesis_32.pptx\n"
     ]
    },
    {
     "name": "stderr",
     "output_type": "stream",
     "text": [
      "Fetching verses for Genesis 33: 20verse [00:04,  4.95verse/s, Completed chapter.]\n"
     ]
    },
    {
     "name": "stdout",
     "output_type": "stream",
     "text": [
      "Presentation saved as 창세기_Genesis_33.pptx\n"
     ]
    },
    {
     "name": "stderr",
     "output_type": "stream",
     "text": [
      "Fetching verses for Genesis 34: 31verse [00:55,  1.80s/verse, Completed chapter.]                    \n"
     ]
    },
    {
     "name": "stdout",
     "output_type": "stream",
     "text": [
      "Presentation saved as 창세기_Genesis_34.pptx\n"
     ]
    },
    {
     "name": "stderr",
     "output_type": "stream",
     "text": [
      "Fetching verses for Genesis 35: 29verse [00:05,  5.06verse/s, Completed chapter.]\n"
     ]
    },
    {
     "name": "stdout",
     "output_type": "stream",
     "text": [
      "Presentation saved as 창세기_Genesis_35.pptx\n"
     ]
    },
    {
     "name": "stderr",
     "output_type": "stream",
     "text": [
      "Fetching verses for Genesis 36: 43verse [00:58,  1.36s/verse, Completed chapter.]                    \n"
     ]
    },
    {
     "name": "stdout",
     "output_type": "stream",
     "text": [
      "Presentation saved as 창세기_Genesis_36.pptx\n"
     ]
    },
    {
     "name": "stderr",
     "output_type": "stream",
     "text": [
      "Fetching verses for Genesis 37: 36verse [00:57,  1.59s/verse, Completed chapter.]                     \n"
     ]
    },
    {
     "name": "stdout",
     "output_type": "stream",
     "text": [
      "Presentation saved as 창세기_Genesis_37.pptx\n"
     ]
    },
    {
     "name": "stderr",
     "output_type": "stream",
     "text": [
      "Fetching verses for Genesis 38: 30verse [00:07,  4.00verse/s, Completed chapter.]\n"
     ]
    },
    {
     "name": "stdout",
     "output_type": "stream",
     "text": [
      "Presentation saved as 창세기_Genesis_38.pptx\n"
     ]
    },
    {
     "name": "stderr",
     "output_type": "stream",
     "text": [
      "Fetching verses for Genesis 39: 23verse [00:52,  2.27s/verse, Completed chapter.]                     \n"
     ]
    },
    {
     "name": "stdout",
     "output_type": "stream",
     "text": [
      "Presentation saved as 창세기_Genesis_39.pptx\n"
     ]
    },
    {
     "name": "stderr",
     "output_type": "stream",
     "text": [
      "Fetching verses for Genesis 40: 23verse [00:05,  3.98verse/s, Completed chapter.]\n"
     ]
    },
    {
     "name": "stdout",
     "output_type": "stream",
     "text": [
      "Presentation saved as 창세기_Genesis_40.pptx\n"
     ]
    },
    {
     "name": "stderr",
     "output_type": "stream",
     "text": [
      "Fetching verses for Genesis 41: 57verse [01:00,  1.07s/verse, Completed chapter.]                     \n"
     ]
    },
    {
     "name": "stdout",
     "output_type": "stream",
     "text": [
      "Presentation saved as 창세기_Genesis_41.pptx\n"
     ]
    },
    {
     "name": "stderr",
     "output_type": "stream",
     "text": [
      "Fetching verses for Genesis 42: 2verse [08:46, 263.02s/verse, Rate limited. Retrying in 1159 seconds...]\n"
     ]
    },
    {
     "ename": "KeyboardInterrupt",
     "evalue": "",
     "output_type": "error",
     "traceback": [
      "\u001b[0;31m---------------------------------------------------------------------------\u001b[0m",
      "\u001b[0;31mKeyboardInterrupt\u001b[0m                         Traceback (most recent call last)",
      "Cell \u001b[0;32mIn[3], line 3\u001b[0m\n\u001b[1;32m      1\u001b[0m \u001b[38;5;28;01mfor\u001b[39;00m i \u001b[38;5;129;01min\u001b[39;00m \u001b[38;5;28mrange\u001b[39m (\u001b[38;5;241m1\u001b[39m, chapter\u001b[38;5;241m+\u001b[39m\u001b[38;5;241m1\u001b[39m) :\n\u001b[1;32m      2\u001b[0m     \u001b[38;5;28;01mif\u001b[39;00m i \u001b[38;5;129;01mnot\u001b[39;00m \u001b[38;5;129;01min\u001b[39;00m done:\n\u001b[0;32m----> 3\u001b[0m         df \u001b[38;5;241m=\u001b[39m \u001b[43mfetch_and_merge_bible_verses\u001b[49m\u001b[43m(\u001b[49m\u001b[43mbook_eng\u001b[49m\u001b[43m,\u001b[49m\u001b[43m \u001b[49m\u001b[43mi\u001b[49m\u001b[43m,\u001b[49m\u001b[43m \u001b[49m\u001b[43mapi_key\u001b[49m\u001b[43m)\u001b[49m\n\u001b[1;32m      4\u001b[0m         generate_presentation_for_chapter(df)\n",
      "File \u001b[0;32m~/dev/Bible-Slide-Generator/notebooks/../src/bible_verses_merger.py:70\u001b[0m, in \u001b[0;36mfetch_and_merge_bible_verses\u001b[0;34m(book_eng, chapter, api_key)\u001b[0m\n\u001b[1;32m     67\u001b[0m woorimal_df \u001b[38;5;241m=\u001b[39m pd\u001b[38;5;241m.\u001b[39mmerge(woorimal_df, bible_books_df[[\u001b[38;5;124m'\u001b[39m\u001b[38;5;124mbook_name_kor\u001b[39m\u001b[38;5;124m'\u001b[39m, \u001b[38;5;124m'\u001b[39m\u001b[38;5;124mbook_name_eng\u001b[39m\u001b[38;5;124m'\u001b[39m]], on\u001b[38;5;241m=\u001b[39m\u001b[38;5;124m'\u001b[39m\u001b[38;5;124mbook_name_kor\u001b[39m\u001b[38;5;124m'\u001b[39m, how\u001b[38;5;241m=\u001b[39m\u001b[38;5;124m'\u001b[39m\u001b[38;5;124mleft\u001b[39m\u001b[38;5;124m'\u001b[39m)\n\u001b[1;32m     69\u001b[0m \u001b[38;5;66;03m# Fetch English Bible verses\u001b[39;00m\n\u001b[0;32m---> 70\u001b[0m esv_df \u001b[38;5;241m=\u001b[39m \u001b[43mesvBibleChapter\u001b[49m\u001b[43m(\u001b[49m\u001b[43mbook_eng\u001b[49m\u001b[43m,\u001b[49m\u001b[43m \u001b[49m\u001b[43mchapter\u001b[49m\u001b[43m,\u001b[49m\u001b[43m \u001b[49m\u001b[43mapi_key\u001b[49m\u001b[43m)\u001b[49m\n\u001b[1;32m     72\u001b[0m \u001b[38;5;66;03m# Prepare for merging\u001b[39;00m\n\u001b[1;32m     73\u001b[0m woorimal_df[\u001b[38;5;124m'\u001b[39m\u001b[38;5;124mchapter\u001b[39m\u001b[38;5;124m'\u001b[39m] \u001b[38;5;241m=\u001b[39m woorimal_df[\u001b[38;5;124m'\u001b[39m\u001b[38;5;124mchapter\u001b[39m\u001b[38;5;124m'\u001b[39m]\u001b[38;5;241m.\u001b[39mastype(\u001b[38;5;28mint\u001b[39m)\n",
      "File \u001b[0;32m~/dev/Bible-Slide-Generator/notebooks/../src/bible_verses_merger.py:50\u001b[0m, in \u001b[0;36mesvBibleChapter\u001b[0;34m(book, chapter, api_key)\u001b[0m\n\u001b[1;32m     48\u001b[0m     \u001b[38;5;28;01mfor\u001b[39;00m remaining \u001b[38;5;129;01min\u001b[39;00m \u001b[38;5;28mrange\u001b[39m(retry_after, \u001b[38;5;241m0\u001b[39m, \u001b[38;5;241m-\u001b[39m\u001b[38;5;241m1\u001b[39m):\n\u001b[1;32m     49\u001b[0m         pbar\u001b[38;5;241m.\u001b[39mset_postfix_str(\u001b[38;5;124mf\u001b[39m\u001b[38;5;124m\"\u001b[39m\u001b[38;5;124mRate limited. Retrying in \u001b[39m\u001b[38;5;132;01m{\u001b[39;00mremaining\u001b[38;5;132;01m}\u001b[39;00m\u001b[38;5;124m seconds...\u001b[39m\u001b[38;5;124m\"\u001b[39m)\n\u001b[0;32m---> 50\u001b[0m         time\u001b[38;5;241m.\u001b[39msleep(\u001b[38;5;241m1\u001b[39m)\n\u001b[1;32m     51\u001b[0m     pbar\u001b[38;5;241m.\u001b[39mset_postfix_str(\u001b[38;5;124m'\u001b[39m\u001b[38;5;124m'\u001b[39m)\n\u001b[1;32m     52\u001b[0m \u001b[38;5;28;01melse\u001b[39;00m:\n",
      "\u001b[0;31mKeyboardInterrupt\u001b[0m: "
     ]
    }
   ],
   "source": [
    "for i in range (1, chapter+1) :\n",
    "    if i not in done:\n",
    "        df = fetch_and_merge_bible_verses(book_eng, i, api_key)\n",
    "        generate_presentation_for_chapter(df)"
   ]
  },
  {
   "cell_type": "code",
   "execution_count": null,
   "id": "0fc8ee0c-2df3-45f3-8dd2-8d524cb49dba",
   "metadata": {},
   "outputs": [],
   "source": []
  }
 ],
 "metadata": {
  "kernelspec": {
   "display_name": "Python 3 (ipykernel)",
   "language": "python",
   "name": "python3"
  },
  "language_info": {
   "codemirror_mode": {
    "name": "ipython",
    "version": 3
   },
   "file_extension": ".py",
   "mimetype": "text/x-python",
   "name": "python",
   "nbconvert_exporter": "python",
   "pygments_lexer": "ipython3",
   "version": "3.11.7"
  }
 },
 "nbformat": 4,
 "nbformat_minor": 5
}
