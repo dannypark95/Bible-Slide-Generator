{
 "cells": [
  {
   "cell_type": "code",
   "execution_count": 1,
   "id": "ae3931f3-0914-4d6f-8cdb-3cb80e8fdb98",
   "metadata": {},
   "outputs": [],
   "source": [
    "import sys\n",
    "sys.path.append('../src')\n",
    "\n",
    "from bible_verses_merger import fetch_and_merge_bible_verses\n",
    "from pptx_generator import generate_presentation_for_chapter"
   ]
  },
  {
   "cell_type": "code",
   "execution_count": 2,
   "id": "7c261197-7bd2-499c-a6d4-e2987b8c986d",
   "metadata": {},
   "outputs": [],
   "source": [
    "api_key = '3d4fd00f7de5f215dc1331289ad27919e037a247'\n",
    "book_eng = \"Genesis\"\n",
    "chapter = 50\n",
    "\n",
    "done = [1,2,3,4,5,6,7,8,9,10,11,12,13,14,15,16,17,18,19,20]"
   ]
  },
  {
   "cell_type": "code",
   "execution_count": null,
   "id": "27cb97ca-9d13-4e6c-bca1-05772849932e",
   "metadata": {},
   "outputs": [
    {
     "name": "stderr",
     "output_type": "stream",
     "text": [
      "Fetching verses for Genesis 21: 34verse [00:37,  1.10s/verse, Completed chapter.]\n"
     ]
    },
    {
     "name": "stdout",
     "output_type": "stream",
     "text": [
      "Presentation saved as 창세기_Genesis_21.pptx\n"
     ]
    },
    {
     "name": "stderr",
     "output_type": "stream",
     "text": [
      "Fetching verses for Genesis 22: 24verse [00:27,  1.15s/verse, Completed chapter.]\n"
     ]
    },
    {
     "name": "stdout",
     "output_type": "stream",
     "text": [
      "Presentation saved as 창세기_Genesis_22.pptx\n"
     ]
    },
    {
     "name": "stderr",
     "output_type": "stream",
     "text": [
      "Fetching verses for Genesis 23: 20verse [00:22,  1.15s/verse, Completed chapter.]\n"
     ]
    },
    {
     "name": "stdout",
     "output_type": "stream",
     "text": [
      "Presentation saved as 창세기_Genesis_23.pptx\n"
     ]
    },
    {
     "name": "stderr",
     "output_type": "stream",
     "text": [
      "Fetching verses for Genesis 24: 67verse [01:16,  1.15s/verse, Completed chapter.]\n"
     ]
    },
    {
     "name": "stdout",
     "output_type": "stream",
     "text": [
      "Presentation saved as 창세기_Genesis_24.pptx\n"
     ]
    },
    {
     "name": "stderr",
     "output_type": "stream",
     "text": [
      "Fetching verses for Genesis 25: 34verse [00:39,  1.15s/verse, Completed chapter.]\n"
     ]
    },
    {
     "name": "stdout",
     "output_type": "stream",
     "text": [
      "Presentation saved as 창세기_Genesis_25.pptx\n"
     ]
    },
    {
     "name": "stderr",
     "output_type": "stream",
     "text": [
      "Fetching verses for Genesis 26: 20verse [00:22,  1.15s/verse]"
     ]
    },
    {
     "name": "stdout",
     "output_type": "stream",
     "text": [
      "Retrying due to failure...\n",
      "Retrying due to failure...\n",
      "Retrying due to failure...\n",
      "Retrying due to failure...\n",
      "Retrying due to failure...\n",
      "Retrying due to failure...\n",
      "Retrying due to failure...\n",
      "Retrying due to failure...\n",
      "Retrying due to failure...\n",
      "Retrying due to failure...\n",
      "Retrying due to failure...\n",
      "Retrying due to failure...\n",
      "Retrying due to failure...\n",
      "Retrying due to failure...\n",
      "Retrying due to failure...\n",
      "Retrying due to failure...\n",
      "Retrying due to failure...\n",
      "Retrying due to failure...\n",
      "Retrying due to failure...\n",
      "Retrying due to failure...\n",
      "Retrying due to failure...\n",
      "Retrying due to failure...\n",
      "Retrying due to failure...\n",
      "Retrying due to failure...\n",
      "Retrying due to failure...\n",
      "Retrying due to failure...\n",
      "Retrying due to failure...\n",
      "Retrying due to failure...\n",
      "Retrying due to failure...\n",
      "Retrying due to failure...\n",
      "Retrying due to failure...\n",
      "Retrying due to failure...\n",
      "Retrying due to failure...\n",
      "Retrying due to failure...\n",
      "Retrying due to failure...\n",
      "Retrying due to failure...\n",
      "Retrying due to failure...\n",
      "Retrying due to failure...\n",
      "Retrying due to failure...\n"
     ]
    }
   ],
   "source": [
    "for i in range (1, chapter+1) :\n",
    "    if i not in done:\n",
    "        df = fetch_and_merge_bible_verses(book_eng, i, api_key)\n",
    "        generate_presentation_for_chapter(df)"
   ]
  },
  {
   "cell_type": "code",
   "execution_count": null,
   "id": "0fc8ee0c-2df3-45f3-8dd2-8d524cb49dba",
   "metadata": {},
   "outputs": [],
   "source": []
  }
 ],
 "metadata": {
  "kernelspec": {
   "display_name": "Python 3 (ipykernel)",
   "language": "python",
   "name": "python3"
  },
  "language_info": {
   "codemirror_mode": {
    "name": "ipython",
    "version": 3
   },
   "file_extension": ".py",
   "mimetype": "text/x-python",
   "name": "python",
   "nbconvert_exporter": "python",
   "pygments_lexer": "ipython3",
   "version": "3.11.7"
  }
 },
 "nbformat": 4,
 "nbformat_minor": 5
}
