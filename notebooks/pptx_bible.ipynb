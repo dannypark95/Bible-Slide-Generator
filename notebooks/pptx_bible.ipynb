{
 "cells": [
  {
   "cell_type": "code",
   "execution_count": 1,
   "id": "ae3931f3-0914-4d6f-8cdb-3cb80e8fdb98",
   "metadata": {},
   "outputs": [],
   "source": [
    "import sys\n",
    "sys.path.append('../src')\n",
    "\n",
    "from bible_verses_merger import fetch_and_merge_bible_verses\n",
    "from pptx_generator import generate_presentation_for_chapter"
   ]
  },
  {
   "cell_type": "code",
   "execution_count": 3,
   "id": "7c261197-7bd2-499c-a6d4-e2987b8c986d",
   "metadata": {},
   "outputs": [],
   "source": [
    "api_key = '3fb79bad31a30af5da36840fa980611e629e0d1a'\n",
    "book_eng = \"Genesis\"\n",
    "chapter = 50\n",
    "\n",
    "done = [1,2,3,4,5,6,7,8,9,10,11,12,13,14,15,16,17,18,19,20]"
   ]
  },
  {
   "cell_type": "code",
   "execution_count": 4,
   "id": "27cb97ca-9d13-4e6c-bca1-05772849932e",
   "metadata": {},
   "outputs": [
    {
     "name": "stderr",
     "output_type": "stream",
     "text": [
      "Fetching verses for Genesis 21: 0verse [00:00, ?verse/s]"
     ]
    },
    {
     "name": "stdout",
     "output_type": "stream",
     "text": [
      "Retrying due to failure...\n",
      "Retrying due to failure...\n",
      "Retrying due to failure...\n",
      "Retrying due to failure...\n"
     ]
    },
    {
     "name": "stderr",
     "output_type": "stream",
     "text": [
      "Fetching verses for Genesis 21: 0verse [00:08, ?verse/s]\n"
     ]
    },
    {
     "ename": "KeyboardInterrupt",
     "evalue": "",
     "output_type": "error",
     "traceback": [
      "\u001b[0;31m---------------------------------------------------------------------------\u001b[0m",
      "\u001b[0;31mKeyboardInterrupt\u001b[0m                         Traceback (most recent call last)",
      "Cell \u001b[0;32mIn[4], line 3\u001b[0m\n\u001b[1;32m      1\u001b[0m \u001b[38;5;28;01mfor\u001b[39;00m i \u001b[38;5;129;01min\u001b[39;00m \u001b[38;5;28mrange\u001b[39m (\u001b[38;5;241m1\u001b[39m, chapter\u001b[38;5;241m+\u001b[39m\u001b[38;5;241m1\u001b[39m) :\n\u001b[1;32m      2\u001b[0m     \u001b[38;5;28;01mif\u001b[39;00m i \u001b[38;5;129;01mnot\u001b[39;00m \u001b[38;5;129;01min\u001b[39;00m done:\n\u001b[0;32m----> 3\u001b[0m         df \u001b[38;5;241m=\u001b[39m \u001b[43mfetch_and_merge_bible_verses\u001b[49m\u001b[43m(\u001b[49m\u001b[43mbook_eng\u001b[49m\u001b[43m,\u001b[49m\u001b[43m \u001b[49m\u001b[43mi\u001b[49m\u001b[43m,\u001b[49m\u001b[43m \u001b[49m\u001b[43mapi_key\u001b[49m\u001b[43m)\u001b[49m\n\u001b[1;32m      4\u001b[0m         generate_presentation_for_chapter(df)\n",
      "File \u001b[0;32m~/dev/Bible-Slide-Generator/notebooks/../src/bible_verses_merger.py:61\u001b[0m, in \u001b[0;36mfetch_and_merge_bible_verses\u001b[0;34m(book_eng, chapter, api_key)\u001b[0m\n\u001b[1;32m     58\u001b[0m woorimal_df \u001b[38;5;241m=\u001b[39m pd\u001b[38;5;241m.\u001b[39mmerge(woorimal_df, bible_books_df[[\u001b[38;5;124m'\u001b[39m\u001b[38;5;124mbook_name_kor\u001b[39m\u001b[38;5;124m'\u001b[39m, \u001b[38;5;124m'\u001b[39m\u001b[38;5;124mbook_name_eng\u001b[39m\u001b[38;5;124m'\u001b[39m]], on\u001b[38;5;241m=\u001b[39m\u001b[38;5;124m'\u001b[39m\u001b[38;5;124mbook_name_kor\u001b[39m\u001b[38;5;124m'\u001b[39m, how\u001b[38;5;241m=\u001b[39m\u001b[38;5;124m'\u001b[39m\u001b[38;5;124mleft\u001b[39m\u001b[38;5;124m'\u001b[39m)\n\u001b[1;32m     60\u001b[0m \u001b[38;5;66;03m# Fetch English Bible verses\u001b[39;00m\n\u001b[0;32m---> 61\u001b[0m esv_df \u001b[38;5;241m=\u001b[39m \u001b[43mesvBibleChapter\u001b[49m\u001b[43m(\u001b[49m\u001b[43mbook_eng\u001b[49m\u001b[43m,\u001b[49m\u001b[43m \u001b[49m\u001b[43mchapter\u001b[49m\u001b[43m,\u001b[49m\u001b[43m \u001b[49m\u001b[43mapi_key\u001b[49m\u001b[43m)\u001b[49m\n\u001b[1;32m     63\u001b[0m \u001b[38;5;66;03m# Prepare for merging\u001b[39;00m\n\u001b[1;32m     64\u001b[0m woorimal_df[\u001b[38;5;124m'\u001b[39m\u001b[38;5;124mchapter\u001b[39m\u001b[38;5;124m'\u001b[39m] \u001b[38;5;241m=\u001b[39m woorimal_df[\u001b[38;5;124m'\u001b[39m\u001b[38;5;124mchapter\u001b[39m\u001b[38;5;124m'\u001b[39m]\u001b[38;5;241m.\u001b[39mastype(\u001b[38;5;28mint\u001b[39m)\n",
      "File \u001b[0;32m~/dev/Bible-Slide-Generator/notebooks/../src/bible_verses_merger.py:43\u001b[0m, in \u001b[0;36mesvBibleChapter\u001b[0;34m(book, chapter, api_key)\u001b[0m\n\u001b[1;32m     41\u001b[0m         \u001b[38;5;28;01melse\u001b[39;00m:\n\u001b[1;32m     42\u001b[0m             \u001b[38;5;28mprint\u001b[39m(\u001b[38;5;124m\"\u001b[39m\u001b[38;5;124mRetrying due to failure...\u001b[39m\u001b[38;5;124m\"\u001b[39m)\n\u001b[0;32m---> 43\u001b[0m             \u001b[43mtime\u001b[49m\u001b[38;5;241;43m.\u001b[39;49m\u001b[43msleep\u001b[49m\u001b[43m(\u001b[49m\u001b[38;5;241;43m2\u001b[39;49m\u001b[43m)\u001b[49m  \u001b[38;5;66;03m# Wait for 2 seconds before retrying\u001b[39;00m\n\u001b[1;32m     45\u001b[0m         verse \u001b[38;5;241m+\u001b[39m\u001b[38;5;241m=\u001b[39m \u001b[38;5;241m1\u001b[39m\n\u001b[1;32m     47\u001b[0m \u001b[38;5;28;01mreturn\u001b[39;00m pd\u001b[38;5;241m.\u001b[39mDataFrame(verses_data)\n",
      "\u001b[0;31mKeyboardInterrupt\u001b[0m: "
     ]
    }
   ],
   "source": [
    "for i in range (1, chapter+1) :\n",
    "    if i not in done:\n",
    "        df = fetch_and_merge_bible_verses(book_eng, i, api_key)\n",
    "        generate_presentation_for_chapter(df)"
   ]
  }
 ],
 "metadata": {
  "kernelspec": {
   "display_name": "Python 3 (ipykernel)",
   "language": "python",
   "name": "python3"
  },
  "language_info": {
   "codemirror_mode": {
    "name": "ipython",
    "version": 3
   },
   "file_extension": ".py",
   "mimetype": "text/x-python",
   "name": "python",
   "nbconvert_exporter": "python",
   "pygments_lexer": "ipython3",
   "version": "3.11.7"
  }
 },
 "nbformat": 4,
 "nbformat_minor": 5
}
