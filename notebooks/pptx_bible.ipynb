{
 "cells": [
  {
   "cell_type": "code",
   "execution_count": 4,
   "id": "ae3931f3-0914-4d6f-8cdb-3cb80e8fdb98",
   "metadata": {},
   "outputs": [],
   "source": [
    "import sys\n",
    "sys.path.append('../src')\n",
    "\n",
    "from bible_verses_merger import fetch_and_merge_bible_verses\n",
    "from pptx_generator import generate_presentation_for_chapter"
   ]
  },
  {
   "cell_type": "code",
   "execution_count": 7,
   "id": "7c261197-7bd2-499c-a6d4-e2987b8c986d",
   "metadata": {},
   "outputs": [],
   "source": [
    "api_key = '3d4fd00f7de5f215dc1331289ad27919e037a247'\n",
    "book_eng = \"3 John\"\n",
    "chapter = 1\n",
    "\n",
    "done = []"
   ]
  },
  {
   "cell_type": "code",
   "execution_count": 8,
   "id": "27cb97ca-9d13-4e6c-bca1-05772849932e",
   "metadata": {},
   "outputs": [
    {
     "name": "stderr",
     "output_type": "stream",
     "text": [
      "Fetching verses for 3 John 1: 15verse [00:03,  4.96verse/s, Completed chapter.]\n"
     ]
    },
    {
     "name": "stdout",
     "output_type": "stream",
     "text": [
      "Presentation saved as 요한 3서_3 John_1.pptx\n"
     ]
    }
   ],
   "source": [
    "for i in range (1, chapter+1) :\n",
    "    if i not in done:\n",
    "        df = fetch_and_merge_bible_verses(book_eng, i, api_key)\n",
    "        generate_presentation_for_chapter(df)"
   ]
  },
  {
   "cell_type": "code",
   "execution_count": null,
   "id": "55f571b9-70aa-4813-998e-40c5c50a38c7",
   "metadata": {},
   "outputs": [],
   "source": []
  }
 ],
 "metadata": {
  "kernelspec": {
   "display_name": "Python 3 (ipykernel)",
   "language": "python",
   "name": "python3"
  },
  "language_info": {
   "codemirror_mode": {
    "name": "ipython",
    "version": 3
   },
   "file_extension": ".py",
   "mimetype": "text/x-python",
   "name": "python",
   "nbconvert_exporter": "python",
   "pygments_lexer": "ipython3",
   "version": "3.11.7"
  }
 },
 "nbformat": 4,
 "nbformat_minor": 5
}
