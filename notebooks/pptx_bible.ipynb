{
 "cells": [
  {
   "cell_type": "code",
   "execution_count": 5,
   "id": "ae3931f3-0914-4d6f-8cdb-3cb80e8fdb98",
   "metadata": {},
   "outputs": [],
   "source": [
    "import sys\n",
    "sys.path.append('../src')\n",
    "\n",
    "from bible_verses_merger import fetch_and_merge_bible_verses\n",
    "from pptx_generator import generate_presentation_for_chapter"
   ]
  },
  {
   "cell_type": "code",
   "execution_count": 6,
   "id": "7c261197-7bd2-499c-a6d4-e2987b8c986d",
   "metadata": {},
   "outputs": [],
   "source": [
    "api_key = '3fb79bad31a30af5da36840fa980611e629e0d1a'\n",
    "book_eng = \"Genesis\"\n",
    "chapter = 1"
   ]
  },
  {
   "cell_type": "code",
   "execution_count": 7,
   "id": "792b7c15-a01c-452a-83a6-10b44f66d920",
   "metadata": {
    "scrolled": true
   },
   "outputs": [
    {
     "name": "stderr",
     "output_type": "stream",
     "text": [
      "Fetching verses for Genesis 1: 31verse [00:06,  5.13verse/s, Completed chapter.]\n"
     ]
    }
   ],
   "source": [
    "genesis_ch1 = fetch_and_merge_bible_verses(book_eng, chapter, api_key)"
   ]
  },
  {
   "cell_type": "code",
   "execution_count": 9,
   "id": "9c854a15-20cd-412a-8dd9-8dab65b01b16",
   "metadata": {},
   "outputs": [
    {
     "name": "stdout",
     "output_type": "stream",
     "text": [
      "Presentation saved as Genesis_1.pptx\n"
     ]
    }
   ],
   "source": [
    "generate_presentation_for_chapter(genesis_ch1)"
   ]
  },
  {
   "cell_type": "code",
   "execution_count": null,
   "id": "08484f5e-aa5a-40ca-be9f-f9b6d14a05ff",
   "metadata": {},
   "outputs": [],
   "source": []
  }
 ],
 "metadata": {
  "kernelspec": {
   "display_name": "Python 3 (ipykernel)",
   "language": "python",
   "name": "python3"
  },
  "language_info": {
   "codemirror_mode": {
    "name": "ipython",
    "version": 3
   },
   "file_extension": ".py",
   "mimetype": "text/x-python",
   "name": "python",
   "nbconvert_exporter": "python",
   "pygments_lexer": "ipython3",
   "version": "3.11.7"
  }
 },
 "nbformat": 4,
 "nbformat_minor": 5
}
