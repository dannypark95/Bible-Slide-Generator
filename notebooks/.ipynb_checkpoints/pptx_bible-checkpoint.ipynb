{
 "cells": [
  {
   "cell_type": "code",
   "execution_count": 1,
   "id": "ae3931f3-0914-4d6f-8cdb-3cb80e8fdb98",
   "metadata": {},
   "outputs": [],
   "source": [
    "import sys\n",
    "sys.path.append('../src')\n",
    "\n",
    "from bible_verses_merger import fetch_and_merge_bible_verses\n",
    "from pptx_generator import generate_presentation_for_chapter"
   ]
  },
  {
   "cell_type": "code",
   "execution_count": 2,
   "id": "7c261197-7bd2-499c-a6d4-e2987b8c986d",
   "metadata": {},
   "outputs": [],
   "source": [
    "api_key = '3fb79bad31a30af5da36840fa980611e629e0d1a'\n",
    "book_eng = \"Genesis\"\n",
    "chapter = 50\n",
    "\n",
    "done = [1,2,3,4,5,6,7,8,9,11,12,15,16,17,18]"
   ]
  },
  {
   "cell_type": "code",
   "execution_count": null,
   "id": "27cb97ca-9d13-4e6c-bca1-05772849932e",
   "metadata": {},
   "outputs": [],
   "source": [
    "for i in range (1, chapter+1) :\n",
    "    if i not in done:\n",
    "        df = fetch_and_merge_bible_verses(book_eng, i, api_key)\n",
    "        generate_presentation_for_chapter(df)"
   ]
  }
 ],
 "metadata": {
  "kernelspec": {
   "display_name": "Python 3 (ipykernel)",
   "language": "python",
   "name": "python3"
  },
  "language_info": {
   "codemirror_mode": {
    "name": "ipython",
    "version": 3
   },
   "file_extension": ".py",
   "mimetype": "text/x-python",
   "name": "python",
   "nbconvert_exporter": "python",
   "pygments_lexer": "ipython3",
   "version": "3.11.7"
  }
 },
 "nbformat": 4,
 "nbformat_minor": 5
}
